{
 "cells": [
  {
   "cell_type": "code",
   "execution_count": null,
   "metadata": {},
   "outputs": [],
   "source": [
    "library(hise)\n",
    "library(dplyr)\n",
    "library(purrr)\n",
    "source(\"_custom_functions/project_folder_helpers.R\")"
   ]
  },
  {
   "cell_type": "code",
   "execution_count": null,
   "metadata": {},
   "outputs": [],
   "source": [
    "project_folder <- read.csv(\"project_folder_params\")$name"
   ]
  },
  {
   "cell_type": "code",
   "execution_count": null,
   "metadata": {},
   "outputs": [],
   "source": [
    "watch_folder <- project_folder <- read.csv(\"project_folder_params\")$watchfolder"
   ]
  },
  {
   "cell_type": "markdown",
   "metadata": {},
   "source": [
    "May need to run `gcloud auth login` to connect to Google Cloud"
   ]
  },
  {
   "cell_type": "code",
   "execution_count": null,
   "metadata": {},
   "outputs": [],
   "source": [
    "stash_dirs <- read.csv(\"XX_stash_directories.csv\")"
   ]
  },
  {
   "cell_type": "code",
   "execution_count": null,
   "metadata": {},
   "outputs": [],
   "source": [
    "update_dirs <- stash_dirs\n",
    "update_dirs"
   ]
  },
  {
   "cell_type": "code",
   "execution_count": null,
   "metadata": {},
   "outputs": [],
   "source": [
    "stash_paths(update_dirs, watch_folder, project_folder = project_folder, overwrite = FALSE)"
   ]
  },
  {
   "cell_type": "markdown",
   "metadata": {},
   "source": [
    "Check stored files"
   ]
  },
  {
   "cell_type": "code",
   "execution_count": null,
   "metadata": {},
   "outputs": [],
   "source": [
    "pf_df <- get_project_folder_df(project_folder)"
   ]
  },
  {
   "cell_type": "code",
   "execution_count": null,
   "metadata": {},
   "outputs": [],
   "source": [
    "pf_df"
   ]
  },
  {
   "cell_type": "code",
   "execution_count": null,
   "metadata": {
    "tags": []
   },
   "outputs": [],
   "source": [
    "sessionInfo()"
   ]
  },
  {
   "cell_type": "markdown",
   "metadata": {},
   "source": [
    "## !!DANGER ZONE!! ##"
   ]
  },
  {
   "cell_type": "markdown",
   "metadata": {},
   "source": [
    "## !!*Probably don't run this*!!\n",
    "Note: these are commented Raw cells, so you should be OK if you accidentally shift-Enter :)"
   ]
  },
  {
   "cell_type": "raw",
   "metadata": {},
   "source": [
    "# DANGER: To clear out the entire project folder\n",
    "# pf_files <- listFilesInProjectFolders(list(project_folder))$files\n",
    "# pf_df <- map_dfr(pf_files, list_to_named_df, header_names = flattened_names(pf_files))\n",
    "# walk(pf_df$name, function(n) { deleteFileInProjectFolder(\"fh1_treat\",n) })"
   ]
  },
  {
   "cell_type": "raw",
   "metadata": {},
   "source": [
    "# DANGER: clear out untagged files\n",
    "# pf_files <- listFilesInProjectFolders(list(project_folder))$files\n",
    "# pf_df <- map_dfr(pf_files, list_to_named_df, header_names = flattened_names(pf_files)) %>%\n",
    "#  filter(metadata.userTags.name == \"\")\n",
    "# walk(pf_df$name, function(n) { deleteFileInProjectFolder(\"fh1_treat\",n) })"
   ]
  },
  {
   "cell_type": "code",
   "execution_count": null,
   "metadata": {},
   "outputs": [],
   "source": []
  }
 ],
 "metadata": {
  "kernelspec": {
   "display_name": "R 4",
   "language": "R",
   "name": "ir4"
  },
  "language_info": {
   "codemirror_mode": "r",
   "file_extension": ".r",
   "mimetype": "text/x-r-source",
   "name": "R",
   "pygments_lexer": "r",
   "version": "4.0.5"
  }
 },
 "nbformat": 4,
 "nbformat_minor": 4
}
