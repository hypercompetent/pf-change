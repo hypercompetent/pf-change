{
 "cells": [
  {
   "cell_type": "code",
   "execution_count": 1,
   "metadata": {},
   "outputs": [],
   "source": [
    "quiet_library <- function(...) { suppressPackageStartupMessages(library(...)) }\n",
    "quiet_library(hise)\n",
    "quiet_library(dplyr)\n",
    "quiet_library(purrr)\n",
    "source(\"_custom_functions/project_folder_helpers.R\")\n",
    "\n",
    "project_folder <- read.csv(\"project_folder_params\")$name\n",
    "\n",
    "stash_dirs <- read.csv(\"XX_stash_directories.csv\")"
   ]
  },
  {
   "cell_type": "code",
   "execution_count": 2,
   "metadata": {},
   "outputs": [],
   "source": [
    "selected_dirs <- stash_dirs %>%\n",
    "  filter(path == \"scrna-seq/data/seurat_longitudinal/\")"
   ]
  },
  {
   "cell_type": "code",
   "execution_count": 5,
   "metadata": {},
   "outputs": [
    {
     "data": {
      "text/html": [
       "<table class=\"dataframe\">\n",
       "<caption>A data.frame: 1 × 11</caption>\n",
       "<thead>\n",
       "\t<tr><th scope=col>path</th><th scope=col>modality</th><th scope=col>tar</th><th scope=col>file_type</th><th scope=col>recursive</th><th scope=col>project_folder</th><th scope=col>tag_version</th><th scope=col>tag_details</th><th scope=col>tag_group</th><th scope=col>tag_origin</th><th scope=col>tag_other</th></tr>\n",
       "\t<tr><th scope=col>&lt;chr&gt;</th><th scope=col>&lt;chr&gt;</th><th scope=col>&lt;lgl&gt;</th><th scope=col>&lt;chr&gt;</th><th scope=col>&lt;lgl&gt;</th><th scope=col>&lt;chr&gt;</th><th scope=col>&lt;int&gt;</th><th scope=col>&lt;lgl&gt;</th><th scope=col>&lt;chr&gt;</th><th scope=col>&lt;chr&gt;</th><th scope=col>&lt;chr&gt;</th></tr>\n",
       "</thead>\n",
       "<tbody>\n",
       "\t<tr><td>scrna-seq/data/seurat_longitudinal/</td><td>scrna-seq</td><td>FALSE</td><td>rds</td><td>FALSE</td><td>fh1_treat</td><td>2</td><td>NA</td><td>data</td><td>AIFI</td><td>user:lucasg</td></tr>\n",
       "</tbody>\n",
       "</table>\n"
      ],
      "text/latex": [
       "A data.frame: 1 × 11\n",
       "\\begin{tabular}{lllllllllll}\n",
       " path & modality & tar & file\\_type & recursive & project\\_folder & tag\\_version & tag\\_details & tag\\_group & tag\\_origin & tag\\_other\\\\\n",
       " <chr> & <chr> & <lgl> & <chr> & <lgl> & <chr> & <int> & <lgl> & <chr> & <chr> & <chr>\\\\\n",
       "\\hline\n",
       "\t scrna-seq/data/seurat\\_longitudinal/ & scrna-seq & FALSE & rds & FALSE & fh1\\_treat & 2 & NA & data & AIFI & user:lucasg\\\\\n",
       "\\end{tabular}\n"
      ],
      "text/markdown": [
       "\n",
       "A data.frame: 1 × 11\n",
       "\n",
       "| path &lt;chr&gt; | modality &lt;chr&gt; | tar &lt;lgl&gt; | file_type &lt;chr&gt; | recursive &lt;lgl&gt; | project_folder &lt;chr&gt; | tag_version &lt;int&gt; | tag_details &lt;lgl&gt; | tag_group &lt;chr&gt; | tag_origin &lt;chr&gt; | tag_other &lt;chr&gt; |\n",
       "|---|---|---|---|---|---|---|---|---|---|---|\n",
       "| scrna-seq/data/seurat_longitudinal/ | scrna-seq | FALSE | rds | FALSE | fh1_treat | 2 | NA | data | AIFI | user:lucasg |\n",
       "\n"
      ],
      "text/plain": [
       "  path                                modality  tar   file_type recursive\n",
       "1 scrna-seq/data/seurat_longitudinal/ scrna-seq FALSE rds       FALSE    \n",
       "  project_folder tag_version tag_details tag_group tag_origin tag_other  \n",
       "1 fh1_treat      2           NA          data      AIFI       user:lucasg"
      ]
     },
     "metadata": {},
     "output_type": "display_data"
    }
   ],
   "source": [
    "selected_dirs"
   ]
  },
  {
   "cell_type": "code",
   "execution_count": 3,
   "metadata": {},
   "outputs": [
    {
     "name": "stderr",
     "output_type": "stream",
     "text": [
      "Retrieving file list for fh1_treat\n",
      "\n",
      "Found scrna-seq/data/seurat_longitudinal/\n",
      "\n",
      "Retrieving scrna-seq/data/seurat_longitudinal/\n",
      "\n"
     ]
    }
   ],
   "source": [
    "retrieve_paths(selected_dirs, project_folder)"
   ]
  },
  {
   "cell_type": "code",
   "execution_count": 4,
   "metadata": {},
   "outputs": [
    {
     "data": {
      "text/plain": [
       "R version 4.0.5 (2021-03-31)\n",
       "Platform: x86_64-pc-linux-gnu (64-bit)\n",
       "Running under: Ubuntu 20.04.2 LTS\n",
       "\n",
       "Matrix products: default\n",
       "BLAS:   /usr/lib/x86_64-linux-gnu/openblas-pthread/libblas.so.3\n",
       "LAPACK: /usr/lib/x86_64-linux-gnu/openblas-pthread/liblapack.so.3\n",
       "\n",
       "locale:\n",
       " [1] LC_CTYPE=C.UTF-8       LC_NUMERIC=C           LC_TIME=C.UTF-8       \n",
       " [4] LC_COLLATE=C.UTF-8     LC_MONETARY=C.UTF-8    LC_MESSAGES=C.UTF-8   \n",
       " [7] LC_PAPER=C.UTF-8       LC_NAME=C              LC_ADDRESS=C          \n",
       "[10] LC_TELEPHONE=C         LC_MEASUREMENT=C.UTF-8 LC_IDENTIFICATION=C   \n",
       "\n",
       "attached base packages:\n",
       "[1] stats     graphics  grDevices utils     datasets  methods   base     \n",
       "\n",
       "other attached packages:\n",
       "[1] purrr_0.3.4 dplyr_1.0.7 hise_2.14.0\n",
       "\n",
       "loaded via a namespace (and not attached):\n",
       " [1] magrittr_2.0.1   tidyselect_1.1.1 uuid_0.1-4       R6_2.5.1        \n",
       " [5] rlang_0.4.11     fastmap_1.1.0    fansi_0.5.0      stringr_1.4.0   \n",
       " [9] httr_1.4.2       tools_4.0.5      utf8_1.2.2       DBI_1.1.1       \n",
       "[13] htmltools_0.5.2  ellipsis_0.3.2   assertthat_0.2.1 digest_0.6.28   \n",
       "[17] tibble_3.1.5     lifecycle_1.0.1  crayon_1.4.1     IRdisplay_1.0   \n",
       "[21] repr_1.1.3       bitops_1.0-7     base64enc_0.1-3  vctrs_0.3.8     \n",
       "[25] RCurl_1.98-1.5   curl_4.3.2       IRkernel_1.1.1   glue_1.4.2      \n",
       "[29] evaluate_0.14    stringi_1.7.5    pbdZMQ_0.3-5     compiler_4.0.5  \n",
       "[33] pillar_1.6.3     generics_0.1.0   jsonlite_1.7.2   pkgconfig_2.0.3 "
      ]
     },
     "metadata": {},
     "output_type": "display_data"
    }
   ],
   "source": [
    "sessionInfo()"
   ]
  },
  {
   "cell_type": "code",
   "execution_count": null,
   "metadata": {},
   "outputs": [],
   "source": []
  }
 ],
 "metadata": {
  "kernelspec": {
   "display_name": "R 4",
   "language": "R",
   "name": "ir4"
  },
  "language_info": {
   "codemirror_mode": "r",
   "file_extension": ".r",
   "mimetype": "text/x-r-source",
   "name": "R",
   "pygments_lexer": "r",
   "version": "4.0.5"
  }
 },
 "nbformat": 4,
 "nbformat_minor": 4
}
